{
  "cells": [
    {
      "cell_type": "markdown",
      "metadata": {
        "id": "aN1PU0wBLD64"
      },
      "source": [
        "# Фальсификации выявляемые явкой (Президент РФ 2018 с погрешностью)\n",
        "\n",
        "### Источник данных \\ Source\n",
        "Сделано на Google Sheets:  https://docs.google.com/spreadsheets/d/1B6mdaLXdB9AK5zFjSPzHq-4Rb2Gx8ZfKrm3jFeqQ1qk/copy\n",
        "(нужно создать свою копию)\n",
        "Тут показано как это работает: https://youtu.be/fRScTlfZ16c"
      ]
    },
    {
      "cell_type": "code",
      "execution_count": 1,
      "metadata": {
        "id": "H_tlo2haLD6_"
      },
      "outputs": [],
      "source": [
        "#ЗАДАТЬ ЦВЕТ ТОЧЕК\n",
        "#Официальная Явка без видео\n",
        "no_video = 'gray'\n",
        "#Официальная Явка c непросмотренным видео \n",
        "video_not_looked = 'whitesmoke'\n",
        "#Совпало с официальной явкой\n",
        "video_good = 'darkgreen'\n",
        "#Совпало НИЖЕ с официальной явки\n",
        "video_bad = 'red'\n",
        "#Совпало ВЫШЕ с официальной явки\n",
        "video_strange = 'goldenrod'\n",
        "\n",
        "#Расчет волонтеров 2018\n",
        "info_2018 = 'steelblue'\n",
        "#Расчет волонтеров 2020\n",
        "info_2020 = 'blue'"
      ]
    },
    {
      "cell_type": "code",
      "source": [
        "!pip install dash dash-bootstrap-components jupyter_dash flask_caching "
      ],
      "metadata": {
        "id": "htyhGZ6CMO2S",
        "outputId": "53651700-864d-483e-b27f-7413cd3ca32f",
        "colab": {
          "base_uri": "https://localhost:8080/"
        }
      },
      "execution_count": 3,
      "outputs": [
        {
          "output_type": "stream",
          "name": "stdout",
          "text": [
            "Looking in indexes: https://pypi.org/simple, https://us-python.pkg.dev/colab-wheels/public/simple/\n",
            "Collecting dash\n",
            "  Downloading dash-2.5.1-py3-none-any.whl (9.8 MB)\n",
            "\u001b[K     |████████████████████████████████| 9.8 MB 5.1 MB/s \n",
            "\u001b[?25hCollecting dash-bootstrap-components\n",
            "  Downloading dash_bootstrap_components-1.2.0-py3-none-any.whl (216 kB)\n",
            "\u001b[K     |████████████████████████████████| 216 kB 59.3 MB/s \n",
            "\u001b[?25hCollecting jupyter_dash\n",
            "  Downloading jupyter_dash-0.4.2-py3-none-any.whl (23 kB)\n",
            "Collecting flask_caching\n",
            "  Downloading Flask_Caching-2.0.0-py3-none-any.whl (28 kB)\n",
            "Requirement already satisfied: plotly>=5.0.0 in /usr/local/lib/python3.7/dist-packages (from dash) (5.5.0)\n",
            "Collecting dash-table==5.0.0\n",
            "  Downloading dash_table-5.0.0-py3-none-any.whl (3.9 kB)\n",
            "Requirement already satisfied: Flask>=1.0.4 in /usr/local/lib/python3.7/dist-packages (from dash) (1.1.4)\n",
            "Collecting flask-compress\n",
            "  Downloading Flask_Compress-1.12-py3-none-any.whl (7.9 kB)\n",
            "Collecting dash-html-components==2.0.0\n",
            "  Downloading dash_html_components-2.0.0-py3-none-any.whl (4.1 kB)\n",
            "Collecting dash-core-components==2.0.0\n",
            "  Downloading dash_core_components-2.0.0-py3-none-any.whl (3.8 kB)\n",
            "Requirement already satisfied: Jinja2<3.0,>=2.10.1 in /usr/local/lib/python3.7/dist-packages (from Flask>=1.0.4->dash) (2.11.3)\n",
            "Requirement already satisfied: click<8.0,>=5.1 in /usr/local/lib/python3.7/dist-packages (from Flask>=1.0.4->dash) (7.1.2)\n",
            "Requirement already satisfied: itsdangerous<2.0,>=0.24 in /usr/local/lib/python3.7/dist-packages (from Flask>=1.0.4->dash) (1.1.0)\n",
            "Requirement already satisfied: Werkzeug<2.0,>=0.15 in /usr/local/lib/python3.7/dist-packages (from Flask>=1.0.4->dash) (1.0.1)\n",
            "Requirement already satisfied: MarkupSafe>=0.23 in /usr/local/lib/python3.7/dist-packages (from Jinja2<3.0,>=2.10.1->Flask>=1.0.4->dash) (2.0.1)\n",
            "Requirement already satisfied: tenacity>=6.2.0 in /usr/local/lib/python3.7/dist-packages (from plotly>=5.0.0->dash) (8.0.1)\n",
            "Requirement already satisfied: six in /usr/local/lib/python3.7/dist-packages (from plotly>=5.0.0->dash) (1.15.0)\n",
            "Collecting retrying\n",
            "  Downloading retrying-1.3.3.tar.gz (10 kB)\n",
            "Requirement already satisfied: ipykernel in /usr/local/lib/python3.7/dist-packages (from jupyter_dash) (4.10.1)\n",
            "Requirement already satisfied: ipython in /usr/local/lib/python3.7/dist-packages (from jupyter_dash) (5.5.0)\n",
            "Requirement already satisfied: requests in /usr/local/lib/python3.7/dist-packages (from jupyter_dash) (2.23.0)\n",
            "Collecting ansi2html\n",
            "  Downloading ansi2html-1.7.0-py3-none-any.whl (15 kB)\n",
            "Requirement already satisfied: nest-asyncio in /usr/local/lib/python3.7/dist-packages (from jupyter_dash) (1.5.5)\n",
            "Collecting cachelib>=0.9.0\n",
            "  Downloading cachelib-0.9.0-py3-none-any.whl (15 kB)\n",
            "Requirement already satisfied: importlib-metadata in /usr/local/lib/python3.7/dist-packages (from ansi2html->jupyter_dash) (4.11.4)\n",
            "Collecting brotli\n",
            "  Downloading Brotli-1.0.9-cp37-cp37m-manylinux1_x86_64.whl (357 kB)\n",
            "\u001b[K     |████████████████████████████████| 357 kB 51.2 MB/s \n",
            "\u001b[?25hRequirement already satisfied: typing-extensions>=3.6.4 in /usr/local/lib/python3.7/dist-packages (from importlib-metadata->ansi2html->jupyter_dash) (4.1.1)\n",
            "Requirement already satisfied: zipp>=0.5 in /usr/local/lib/python3.7/dist-packages (from importlib-metadata->ansi2html->jupyter_dash) (3.8.0)\n",
            "Requirement already satisfied: traitlets>=4.1.0 in /usr/local/lib/python3.7/dist-packages (from ipykernel->jupyter_dash) (5.1.1)\n",
            "Requirement already satisfied: tornado>=4.0 in /usr/local/lib/python3.7/dist-packages (from ipykernel->jupyter_dash) (5.1.1)\n",
            "Requirement already satisfied: jupyter-client in /usr/local/lib/python3.7/dist-packages (from ipykernel->jupyter_dash) (5.3.5)\n",
            "Requirement already satisfied: prompt-toolkit<2.0.0,>=1.0.4 in /usr/local/lib/python3.7/dist-packages (from ipython->jupyter_dash) (1.0.18)\n",
            "Requirement already satisfied: simplegeneric>0.8 in /usr/local/lib/python3.7/dist-packages (from ipython->jupyter_dash) (0.8.1)\n",
            "Requirement already satisfied: pexpect in /usr/local/lib/python3.7/dist-packages (from ipython->jupyter_dash) (4.8.0)\n",
            "Requirement already satisfied: pickleshare in /usr/local/lib/python3.7/dist-packages (from ipython->jupyter_dash) (0.7.5)\n",
            "Requirement already satisfied: pygments in /usr/local/lib/python3.7/dist-packages (from ipython->jupyter_dash) (2.6.1)\n",
            "Requirement already satisfied: setuptools>=18.5 in /usr/local/lib/python3.7/dist-packages (from ipython->jupyter_dash) (57.4.0)\n",
            "Requirement already satisfied: decorator in /usr/local/lib/python3.7/dist-packages (from ipython->jupyter_dash) (4.4.2)\n",
            "Requirement already satisfied: wcwidth in /usr/local/lib/python3.7/dist-packages (from prompt-toolkit<2.0.0,>=1.0.4->ipython->jupyter_dash) (0.2.5)\n",
            "Requirement already satisfied: jupyter-core>=4.6.0 in /usr/local/lib/python3.7/dist-packages (from jupyter-client->ipykernel->jupyter_dash) (4.10.0)\n",
            "Requirement already satisfied: pyzmq>=13 in /usr/local/lib/python3.7/dist-packages (from jupyter-client->ipykernel->jupyter_dash) (23.1.0)\n",
            "Requirement already satisfied: python-dateutil>=2.1 in /usr/local/lib/python3.7/dist-packages (from jupyter-client->ipykernel->jupyter_dash) (2.8.2)\n",
            "Requirement already satisfied: ptyprocess>=0.5 in /usr/local/lib/python3.7/dist-packages (from pexpect->ipython->jupyter_dash) (0.7.0)\n",
            "Requirement already satisfied: chardet<4,>=3.0.2 in /usr/local/lib/python3.7/dist-packages (from requests->jupyter_dash) (3.0.4)\n",
            "Requirement already satisfied: urllib3!=1.25.0,!=1.25.1,<1.26,>=1.21.1 in /usr/local/lib/python3.7/dist-packages (from requests->jupyter_dash) (1.24.3)\n",
            "Requirement already satisfied: certifi>=2017.4.17 in /usr/local/lib/python3.7/dist-packages (from requests->jupyter_dash) (2022.6.15)\n",
            "Requirement already satisfied: idna<3,>=2.5 in /usr/local/lib/python3.7/dist-packages (from requests->jupyter_dash) (2.10)\n",
            "Building wheels for collected packages: retrying\n",
            "  Building wheel for retrying (setup.py) ... \u001b[?25l\u001b[?25hdone\n",
            "  Created wheel for retrying: filename=retrying-1.3.3-py3-none-any.whl size=11447 sha256=f0e001859528e2d2e2af1576441f128f0fa2469897dc6e5b90ca1954bcb8654e\n",
            "  Stored in directory: /root/.cache/pip/wheels/f9/8d/8d/f6af3f7f9eea3553bc2fe6d53e4b287dad18b06a861ac56ddf\n",
            "Successfully built retrying\n",
            "Installing collected packages: brotli, flask-compress, dash-table, dash-html-components, dash-core-components, retrying, dash, cachelib, ansi2html, jupyter-dash, flask-caching, dash-bootstrap-components\n",
            "Successfully installed ansi2html-1.7.0 brotli-1.0.9 cachelib-0.9.0 dash-2.5.1 dash-bootstrap-components-1.2.0 dash-core-components-2.0.0 dash-html-components-2.0.0 dash-table-5.0.0 flask-caching-2.0.0 flask-compress-1.12 jupyter-dash-0.4.2 retrying-1.3.3\n"
          ]
        }
      ]
    },
    {
      "cell_type": "markdown",
      "metadata": {
        "id": "buKBns11LD7D"
      },
      "source": [
        "#####  Библиотеки и функции"
      ]
    },
    {
      "cell_type": "code",
      "execution_count": 11,
      "metadata": {
        "id": "0LDECCGXLD7D"
      },
      "outputs": [],
      "source": [
        "import numpy as np\n",
        "import pandas as pd\n",
        "import warnings\n",
        "\n",
        "from plotly.colors import n_colors\n",
        "import plotly as plt\n",
        "import requests\n",
        "\n",
        "import json\n",
        "\n",
        "import plotly.graph_objects as go \n",
        "import dash\n",
        "import dash_core_components as dcc\n",
        "import dash_html_components as html\n",
        "\n",
        "import dash_bootstrap_components as dbc\n",
        "\n",
        "from dash import Dash, dcc, html, Input, Output\n",
        "from jupyter_dash import JupyterDash\n",
        "from flask_caching import Cache\n",
        "from base64 import b64encode\n",
        "import io\n",
        "TIMEOUT = 60\n",
        "import plotly.io as pio\n",
        "import plotly.express as px\n",
        "pio.templates.default = \"plotly_white\"\n",
        "\n",
        "#Импортируем все необходимые библиотеки\n",
        "user_agent = 'Mozilla/5.0 (Macintosh; Intel Mac OS X 10_9_3) AppleWebKit/537.36 (KHTML, like Gecko) Chrome/35.0.1916.47 Safari/537.36'\n",
        "headers = {'User-Agent': user_agent}\n",
        "\n",
        "#from tqdm import tqdm\n",
        "pd.set_option('display.max_columns', None)\n"
      ]
    },
    {
      "cell_type": "markdown",
      "metadata": {
        "id": "V8nfIcIELD7E"
      },
      "source": [
        "##### Загрузка данных"
      ]
    },
    {
      "cell_type": "code",
      "execution_count": 12,
      "metadata": {
        "id": "r6vJd6fgLD7F"
      },
      "outputs": [],
      "source": [
        "def data_read():\n",
        "    data = pd.ExcelFile('„Фальсификации выявляемые явкой (Президент РФ 2018 с погрешностью)“ kopija_.xlsx').parse('ЦИК')\n",
        "    data = data.drop(columns=['Unnamed: 0', 'Unnamed: 14', 'Unnamed: 19'])\n",
        "    data.columns = data[1:2].values[0]\n",
        "    data = data[2:] \n",
        "    return data"
      ]
    },
    {
      "cell_type": "code",
      "execution_count": 13,
      "metadata": {
        "id": "7PoNoidkLD7G"
      },
      "outputs": [],
      "source": [
        "#data = data_read()"
      ]
    },
    {
      "cell_type": "code",
      "execution_count": 14,
      "metadata": {
        "id": "1lnH5WumLD7H"
      },
      "outputs": [],
      "source": [
        "#data.to_csv('falsifications_detected_president_rf_2018.csv', index=False)"
      ]
    },
    {
      "cell_type": "code",
      "source": [
        "url = 'https://github.com/Justlesia/dataviz_golos_president_2018/blob/d5e79d8085b47b33eb6352aa1034cd7df838e77d/falsifications_detected_president_rf_2018.csv'\n",
        "\n",
        "s = requests.get(url).content\n",
        "data = pd.read_csv(io.StringIO(s.decode('utf-8')))"
      ],
      "metadata": {
        "id": "RBCdjHafONU-"
      },
      "execution_count": null,
      "outputs": []
    },
    {
      "cell_type": "code",
      "execution_count": 16,
      "metadata": {
        "colab": {
          "base_uri": "https://localhost:8080/",
          "height": 264
        },
        "id": "qT2g8EhsLD7H",
        "outputId": "228e305c-e687-43c2-9e17-3c14a3298b27"
      },
      "outputs": [
        {
          "output_type": "error",
          "ename": "ParserError",
          "evalue": "ignored",
          "traceback": [
            "\u001b[0;31m---------------------------------------------------------------------------\u001b[0m",
            "\u001b[0;31mParserError\u001b[0m                               Traceback (most recent call last)",
            "\u001b[0;32m<ipython-input-16-fa1c53441fa4>\u001b[0m in \u001b[0;36m<module>\u001b[0;34m()\u001b[0m\n\u001b[1;32m      2\u001b[0m \u001b[0;34m\u001b[0m\u001b[0m\n\u001b[1;32m      3\u001b[0m \u001b[0ms\u001b[0m \u001b[0;34m=\u001b[0m \u001b[0mrequests\u001b[0m\u001b[0;34m.\u001b[0m\u001b[0mget\u001b[0m\u001b[0;34m(\u001b[0m\u001b[0murl\u001b[0m\u001b[0;34m)\u001b[0m\u001b[0;34m.\u001b[0m\u001b[0mcontent\u001b[0m\u001b[0;34m\u001b[0m\u001b[0;34m\u001b[0m\u001b[0m\n\u001b[0;32m----> 4\u001b[0;31m \u001b[0mdata\u001b[0m \u001b[0;34m=\u001b[0m \u001b[0mpd\u001b[0m\u001b[0;34m.\u001b[0m\u001b[0mread_csv\u001b[0m\u001b[0;34m(\u001b[0m\u001b[0mio\u001b[0m\u001b[0;34m.\u001b[0m\u001b[0mStringIO\u001b[0m\u001b[0;34m(\u001b[0m\u001b[0ms\u001b[0m\u001b[0;34m.\u001b[0m\u001b[0mdecode\u001b[0m\u001b[0;34m(\u001b[0m\u001b[0;34m'utf-8'\u001b[0m\u001b[0;34m)\u001b[0m\u001b[0;34m)\u001b[0m\u001b[0;34m)\u001b[0m\u001b[0;34m\u001b[0m\u001b[0;34m\u001b[0m\u001b[0m\n\u001b[0m",
            "\u001b[0;32m/usr/local/lib/python3.7/dist-packages/pandas/util/_decorators.py\u001b[0m in \u001b[0;36mwrapper\u001b[0;34m(*args, **kwargs)\u001b[0m\n\u001b[1;32m    309\u001b[0m                     \u001b[0mstacklevel\u001b[0m\u001b[0;34m=\u001b[0m\u001b[0mstacklevel\u001b[0m\u001b[0;34m,\u001b[0m\u001b[0;34m\u001b[0m\u001b[0;34m\u001b[0m\u001b[0m\n\u001b[1;32m    310\u001b[0m                 )\n\u001b[0;32m--> 311\u001b[0;31m             \u001b[0;32mreturn\u001b[0m \u001b[0mfunc\u001b[0m\u001b[0;34m(\u001b[0m\u001b[0;34m*\u001b[0m\u001b[0margs\u001b[0m\u001b[0;34m,\u001b[0m \u001b[0;34m**\u001b[0m\u001b[0mkwargs\u001b[0m\u001b[0;34m)\u001b[0m\u001b[0;34m\u001b[0m\u001b[0;34m\u001b[0m\u001b[0m\n\u001b[0m\u001b[1;32m    312\u001b[0m \u001b[0;34m\u001b[0m\u001b[0m\n\u001b[1;32m    313\u001b[0m         \u001b[0;32mreturn\u001b[0m \u001b[0mwrapper\u001b[0m\u001b[0;34m\u001b[0m\u001b[0;34m\u001b[0m\u001b[0m\n",
            "\u001b[0;32m/usr/local/lib/python3.7/dist-packages/pandas/io/parsers/readers.py\u001b[0m in \u001b[0;36mread_csv\u001b[0;34m(filepath_or_buffer, sep, delimiter, header, names, index_col, usecols, squeeze, prefix, mangle_dupe_cols, dtype, engine, converters, true_values, false_values, skipinitialspace, skiprows, skipfooter, nrows, na_values, keep_default_na, na_filter, verbose, skip_blank_lines, parse_dates, infer_datetime_format, keep_date_col, date_parser, dayfirst, cache_dates, iterator, chunksize, compression, thousands, decimal, lineterminator, quotechar, quoting, doublequote, escapechar, comment, encoding, encoding_errors, dialect, error_bad_lines, warn_bad_lines, on_bad_lines, delim_whitespace, low_memory, memory_map, float_precision, storage_options)\u001b[0m\n\u001b[1;32m    584\u001b[0m     \u001b[0mkwds\u001b[0m\u001b[0;34m.\u001b[0m\u001b[0mupdate\u001b[0m\u001b[0;34m(\u001b[0m\u001b[0mkwds_defaults\u001b[0m\u001b[0;34m)\u001b[0m\u001b[0;34m\u001b[0m\u001b[0;34m\u001b[0m\u001b[0m\n\u001b[1;32m    585\u001b[0m \u001b[0;34m\u001b[0m\u001b[0m\n\u001b[0;32m--> 586\u001b[0;31m     \u001b[0;32mreturn\u001b[0m \u001b[0m_read\u001b[0m\u001b[0;34m(\u001b[0m\u001b[0mfilepath_or_buffer\u001b[0m\u001b[0;34m,\u001b[0m \u001b[0mkwds\u001b[0m\u001b[0;34m)\u001b[0m\u001b[0;34m\u001b[0m\u001b[0;34m\u001b[0m\u001b[0m\n\u001b[0m\u001b[1;32m    587\u001b[0m \u001b[0;34m\u001b[0m\u001b[0m\n\u001b[1;32m    588\u001b[0m \u001b[0;34m\u001b[0m\u001b[0m\n",
            "\u001b[0;32m/usr/local/lib/python3.7/dist-packages/pandas/io/parsers/readers.py\u001b[0m in \u001b[0;36m_read\u001b[0;34m(filepath_or_buffer, kwds)\u001b[0m\n\u001b[1;32m    486\u001b[0m \u001b[0;34m\u001b[0m\u001b[0m\n\u001b[1;32m    487\u001b[0m     \u001b[0;32mwith\u001b[0m \u001b[0mparser\u001b[0m\u001b[0;34m:\u001b[0m\u001b[0;34m\u001b[0m\u001b[0;34m\u001b[0m\u001b[0m\n\u001b[0;32m--> 488\u001b[0;31m         \u001b[0;32mreturn\u001b[0m \u001b[0mparser\u001b[0m\u001b[0;34m.\u001b[0m\u001b[0mread\u001b[0m\u001b[0;34m(\u001b[0m\u001b[0mnrows\u001b[0m\u001b[0;34m)\u001b[0m\u001b[0;34m\u001b[0m\u001b[0;34m\u001b[0m\u001b[0m\n\u001b[0m\u001b[1;32m    489\u001b[0m \u001b[0;34m\u001b[0m\u001b[0m\n\u001b[1;32m    490\u001b[0m \u001b[0;34m\u001b[0m\u001b[0m\n",
            "\u001b[0;32m/usr/local/lib/python3.7/dist-packages/pandas/io/parsers/readers.py\u001b[0m in \u001b[0;36mread\u001b[0;34m(self, nrows)\u001b[0m\n\u001b[1;32m   1045\u001b[0m     \u001b[0;32mdef\u001b[0m \u001b[0mread\u001b[0m\u001b[0;34m(\u001b[0m\u001b[0mself\u001b[0m\u001b[0;34m,\u001b[0m \u001b[0mnrows\u001b[0m\u001b[0;34m=\u001b[0m\u001b[0;32mNone\u001b[0m\u001b[0;34m)\u001b[0m\u001b[0;34m:\u001b[0m\u001b[0;34m\u001b[0m\u001b[0;34m\u001b[0m\u001b[0m\n\u001b[1;32m   1046\u001b[0m         \u001b[0mnrows\u001b[0m \u001b[0;34m=\u001b[0m \u001b[0mvalidate_integer\u001b[0m\u001b[0;34m(\u001b[0m\u001b[0;34m\"nrows\"\u001b[0m\u001b[0;34m,\u001b[0m \u001b[0mnrows\u001b[0m\u001b[0;34m)\u001b[0m\u001b[0;34m\u001b[0m\u001b[0;34m\u001b[0m\u001b[0m\n\u001b[0;32m-> 1047\u001b[0;31m         \u001b[0mindex\u001b[0m\u001b[0;34m,\u001b[0m \u001b[0mcolumns\u001b[0m\u001b[0;34m,\u001b[0m \u001b[0mcol_dict\u001b[0m \u001b[0;34m=\u001b[0m \u001b[0mself\u001b[0m\u001b[0;34m.\u001b[0m\u001b[0m_engine\u001b[0m\u001b[0;34m.\u001b[0m\u001b[0mread\u001b[0m\u001b[0;34m(\u001b[0m\u001b[0mnrows\u001b[0m\u001b[0;34m)\u001b[0m\u001b[0;34m\u001b[0m\u001b[0;34m\u001b[0m\u001b[0m\n\u001b[0m\u001b[1;32m   1048\u001b[0m \u001b[0;34m\u001b[0m\u001b[0m\n\u001b[1;32m   1049\u001b[0m         \u001b[0;32mif\u001b[0m \u001b[0mindex\u001b[0m \u001b[0;32mis\u001b[0m \u001b[0;32mNone\u001b[0m\u001b[0;34m:\u001b[0m\u001b[0;34m\u001b[0m\u001b[0;34m\u001b[0m\u001b[0m\n",
            "\u001b[0;32m/usr/local/lib/python3.7/dist-packages/pandas/io/parsers/c_parser_wrapper.py\u001b[0m in \u001b[0;36mread\u001b[0;34m(self, nrows)\u001b[0m\n\u001b[1;32m    222\u001b[0m         \u001b[0;32mtry\u001b[0m\u001b[0;34m:\u001b[0m\u001b[0;34m\u001b[0m\u001b[0;34m\u001b[0m\u001b[0m\n\u001b[1;32m    223\u001b[0m             \u001b[0;32mif\u001b[0m \u001b[0mself\u001b[0m\u001b[0;34m.\u001b[0m\u001b[0mlow_memory\u001b[0m\u001b[0;34m:\u001b[0m\u001b[0;34m\u001b[0m\u001b[0;34m\u001b[0m\u001b[0m\n\u001b[0;32m--> 224\u001b[0;31m                 \u001b[0mchunks\u001b[0m \u001b[0;34m=\u001b[0m \u001b[0mself\u001b[0m\u001b[0;34m.\u001b[0m\u001b[0m_reader\u001b[0m\u001b[0;34m.\u001b[0m\u001b[0mread_low_memory\u001b[0m\u001b[0;34m(\u001b[0m\u001b[0mnrows\u001b[0m\u001b[0;34m)\u001b[0m\u001b[0;34m\u001b[0m\u001b[0;34m\u001b[0m\u001b[0m\n\u001b[0m\u001b[1;32m    225\u001b[0m                 \u001b[0;31m# destructive to chunks\u001b[0m\u001b[0;34m\u001b[0m\u001b[0;34m\u001b[0m\u001b[0;34m\u001b[0m\u001b[0m\n\u001b[1;32m    226\u001b[0m                 \u001b[0mdata\u001b[0m \u001b[0;34m=\u001b[0m \u001b[0m_concatenate_chunks\u001b[0m\u001b[0;34m(\u001b[0m\u001b[0mchunks\u001b[0m\u001b[0;34m)\u001b[0m\u001b[0;34m\u001b[0m\u001b[0;34m\u001b[0m\u001b[0m\n",
            "\u001b[0;32m/usr/local/lib/python3.7/dist-packages/pandas/_libs/parsers.pyx\u001b[0m in \u001b[0;36mpandas._libs.parsers.TextReader.read_low_memory\u001b[0;34m()\u001b[0m\n",
            "\u001b[0;32m/usr/local/lib/python3.7/dist-packages/pandas/_libs/parsers.pyx\u001b[0m in \u001b[0;36mpandas._libs.parsers.TextReader._read_rows\u001b[0;34m()\u001b[0m\n",
            "\u001b[0;32m/usr/local/lib/python3.7/dist-packages/pandas/_libs/parsers.pyx\u001b[0m in \u001b[0;36mpandas._libs.parsers.TextReader._tokenize_rows\u001b[0;34m()\u001b[0m\n",
            "\u001b[0;32m/usr/local/lib/python3.7/dist-packages/pandas/_libs/parsers.pyx\u001b[0m in \u001b[0;36mpandas._libs.parsers.raise_parser_error\u001b[0;34m()\u001b[0m\n",
            "\u001b[0;31mParserError\u001b[0m: Error tokenizing data. C error: Expected 1 fields in line 28, saw 455\n"
          ]
        }
      ],
      "source": [
        "data = pd.read_csv('https://github.com/Justlesia/dataviz_golos_president_2018/blob/d5e79d8085b47b33eb6352aa1034cd7df838e77d/falsifications_detected_president_rf_2018.csv')"
      ]
    },
    {
      "cell_type": "code",
      "source": [
        "data = pd.read_csv('falsifications_detected_president_rf_2018.csv')"
      ],
      "metadata": {
        "id": "0gm25EaCOkna"
      },
      "execution_count": 19,
      "outputs": []
    },
    {
      "cell_type": "code",
      "execution_count": 17,
      "metadata": {
        "id": "4kifVPTJLD7I"
      },
      "outputs": [],
      "source": [
        "#data.head()"
      ]
    },
    {
      "cell_type": "code",
      "execution_count": 20,
      "metadata": {
        "id": "sNig5_J1LD7J"
      },
      "outputs": [],
      "source": [
        "def flattened(data):\n",
        "    data_flattened = data.melt(id_vars=['region', 'uik'], value_vars=['Официальная Явка',\n",
        "                                                                                    'Явка волонтер 2020',\n",
        "                                                                                    'Явка волонтер 2018'])\n",
        "    data_flattened = data_flattened[data_flattened['value'] != -1.0]\n",
        "    \n",
        "    not_looked = data[data['Оф явка без просмотра']  != -1].pivot_table(index = ['region','uik'],\n",
        "                                                           values= 'Оф явка без просмотра', aggfunc  = 'count').reset_index()\n",
        "    data_flattened = data_flattened.merge(not_looked, how = 'left', on = ['region','uik'])\n",
        "    return data_flattened\n",
        "\n",
        "data_flattened = flattened(data)"
      ]
    },
    {
      "cell_type": "code",
      "execution_count": 21,
      "metadata": {
        "id": "frLYkglgLD7K"
      },
      "outputs": [],
      "source": [
        "def replace_and_add(data):\n",
        "    data_flattened['region_uik'] = data_flattened['region'] + ', ' + data_flattened['uik']\n",
        "    data_flattened['uik_num'] = data_flattened['uik'].str.replace('УИК №', '')\n",
        "    return data_flattened\n",
        "\n",
        "data_flattened = replace_and_add(data_flattened)\n"
      ]
    },
    {
      "cell_type": "code",
      "execution_count": 22,
      "metadata": {
        "id": "UWSVamnHLD7L"
      },
      "outputs": [],
      "source": [
        "def proverka_fact(sample_data):\n",
        "    proverka_fact =  sample_data[sample_data[\n",
        "        'variable'].isin(['Явка волонтер 2018', 'Явка волонтер 2020'])].groupby(['region','uik'])['value'].mean().reset_index()\n",
        "    proverka_fact = proverka_fact.rename(columns = {'value': 'mean_volunteer'})\n",
        "    proverka_fact['variable'] = 'Официальная Явка'\n",
        "    sample_data= sample_data.merge(proverka_fact, how= 'left', on = ['region','uik','variable'])\n",
        "    return sample_data\n",
        "\n",
        "sample_data = proverka_fact(data_flattened)\n",
        "\n"
      ]
    },
    {
      "cell_type": "code",
      "execution_count": 23,
      "metadata": {
        "id": "ZZdNxjjPLD7L"
      },
      "outputs": [],
      "source": [
        "def sample_data_color(sample_data, lag):\n",
        "\n",
        "    color_dict = {'Официальная Явка' : no_video, 'Явка волонтер 2018' : info_2018, 'Явка волонтер 2020' : info_2020}\n",
        "\n",
        "    sample_data['color'] = sample_data['variable']\n",
        "    sample_data.replace({\"color\": color_dict}, inplace=True)\n",
        "    sample_data.head()\n",
        "    \n",
        "    sample_data['color'] = sample_data['color'].where(sample_data['Оф явка без просмотра'].isna(), video_not_looked)\n",
        "    sample_data['color'] = sample_data['color'].where(sample_data['mean_volunteer'].isna(), video_good)\n",
        "    sample_data['color'] = sample_data['color'].where(np.logical_not(sample_data['value'] > (sample_data['mean_volunteer'] + lag)),video_bad)\n",
        "    sample_data['color'] = sample_data['color'].where(np.logical_not(sample_data['value'] < (sample_data['mean_volunteer'] - lag)),video_strange)\n",
        "    return sample_data\n",
        "\n",
        "sample_data = sample_data_color(sample_data, 0.05)\n",
        "\n"
      ]
    },
    {
      "cell_type": "code",
      "execution_count": 24,
      "metadata": {
        "colab": {
          "base_uri": "https://localhost:8080/"
        },
        "id": "skIKpVP3LD7M",
        "outputId": "3b244fbb-bb09-4950-9c6d-9f3f224d89f0"
      },
      "outputs": [
        {
          "output_type": "stream",
          "name": "stdout",
          "text": [
            "['gray' 'red' 'whitesmoke' 'darkgreen' 'goldenrod' 'blue' 'steelblue']\n"
          ]
        }
      ],
      "source": [
        "print(sample_data['color'].unique())"
      ]
    },
    {
      "cell_type": "code",
      "execution_count": 25,
      "metadata": {
        "id": "k5bIoU1dLD7M"
      },
      "outputs": [],
      "source": [
        "# для кнопки\n",
        "buffer = io.StringIO()\n",
        "fig = go.Figure()\n",
        "html_bytes = buffer.getvalue().encode()\n",
        "encoded = b64encode(html_bytes).decode()"
      ]
    },
    {
      "cell_type": "code",
      "execution_count": 27,
      "metadata": {
        "code_folding": [
          65
        ],
        "colab": {
          "base_uri": "https://localhost:8080/",
          "height": 52
        },
        "id": "VzEgzrEDLD7N",
        "outputId": "a250dca5-b97f-4183-d0c2-b47dc9db6e99"
      },
      "outputs": [
        {
          "output_type": "stream",
          "name": "stdout",
          "text": [
            "Dash app running on:\n"
          ]
        },
        {
          "output_type": "display_data",
          "data": {
            "text/plain": [
              "<IPython.core.display.Javascript object>"
            ],
            "application/javascript": [
              "(async (port, path, text, element) => {\n",
              "    if (!google.colab.kernel.accessAllowed) {\n",
              "      return;\n",
              "    }\n",
              "    element.appendChild(document.createTextNode(''));\n",
              "    const url = await google.colab.kernel.proxyPort(port);\n",
              "    const anchor = document.createElement('a');\n",
              "    anchor.href = new URL(path, url).toString();\n",
              "    anchor.target = '_blank';\n",
              "    anchor.setAttribute('data-href', url + path);\n",
              "    anchor.textContent = text;\n",
              "    element.appendChild(anchor);\n",
              "  })(8050, \"/\", \"http://127.0.0.1:8050/\", window.element)"
            ]
          },
          "metadata": {}
        }
      ],
      "source": [
        "app = JupyterDash(__name__, external_stylesheets=[dbc.themes.LITERA])\n",
        "\n",
        "cache = Cache(app.server, config={\n",
        "    'CACHE_TYPE': 'simple',\n",
        "    # 'CACHE_DIR': 'cache-directory'\n",
        "})\n",
        "\n",
        "app.layout = html.Div([\n",
        "    html.H2('Фальсификации выявляемые явкой (Президент РФ 2018 с погрешностью)'),\n",
        "    html.Div([\n",
        "        html.Fieldset([\n",
        "            html.Legend(\"Участково избирательные участки:\"),\n",
        "            dcc.RadioItems(\n",
        "                id='all_or_colored', value=1,\n",
        "                options=[{'label': 'Все', 'value': 1},\n",
        "                         {'label': 'Только проверенные (видеонаблюдение)', 'value': 0},\n",
        "                         {'label': 'Один УИК', 'value': 2}]\n",
        "            ),\n",
        "            dcc.Textarea(\n",
        "                id='uik_number',\n",
        "                placeholder='Запишите числовой номер УИК',\n",
        "                style={'width': '50%', 'height': 20},\n",
        "            ),\n",
        "        ]),\n",
        "        html.Fieldset([\n",
        "            html.Legend('Данные по явке:'),\n",
        "            dcc.Checklist(\n",
        "                options=[\n",
        "                    {'label': 'Официальная Явка', 'value': 'Официальная Явка'},\n",
        "                    {'label': 'Явка волонтер 2018', 'value': 'Явка волонтер 2018'},\n",
        "                    {'label': 'Явка волонтер 2020', 'value': 'Явка волонтер 2020'},\n",
        "                ],\n",
        "                value=['Официальная Явка', 'Явка волонтер 2018', 'Явка волонтер 2020'], id='types',\n",
        "            ),\n",
        "        ]),\n",
        "    ], style={'columnCount': '2'}),\n",
        "\n",
        "    html.Div([\n",
        "        html.Fieldset([\n",
        "            html.Legend(\"Критическая погрешность:\"),\n",
        "            html.Br(),\n",
        "\n",
        "            dcc.Slider(0.01, 0.15, id='lag', value=0.05, marks={\n",
        "                0.01: '≥1%',\n",
        "                0.03: '≥3%',\n",
        "                0.05: '≥5%',\n",
        "                0.10: '≥10%',\n",
        "                0.15: '≥15%',\n",
        "            }),\n",
        "            html.Br(),\n",
        "            html.Br(),\n",
        "            html.Div([\n",
        "                'Если выявленный процент явки отличается от официального ',\n",
        "                html.Span('на критическую погрешность и больше, то он выделен цветом, ', style={'color': video_bad}),\n",
        "                html.Span('если меньше - другим', style={'color': video_good}),\n",
        "                '. Третьим отмечены точки, где подсчеты дали ',\n",
        "                html.Span('большую явку, чем официальная', style={'color': video_strange})\n",
        "            ]),\n",
        "        ]),\n",
        "    ], style={'columnCount': '2'}),\n",
        "\n",
        "    html.Div([html.Label('Регион:', style={'font-weight': 'bold'}),\n",
        "              dcc.RadioItems(\n",
        "                  id='region_type', value=1,\n",
        "                  options=[{'label': 'Все', 'value': 1},\n",
        "                           {'label': 'С видео', 'value': 0}]\n",
        "              ),\n",
        "\n",
        "              dcc.Dropdown(\n",
        "                  options=sample_data['region'].unique(),\n",
        "                  value=['город Москва'], id='region', multi=True\n",
        "              ),\n",
        "\n",
        "              html.Br(),\n",
        "              html.A(\n",
        "                  html.Button(\"Скачать как HTML\"),\n",
        "                  id=\"download\",\n",
        "                  href=\"data:text/html;base64,\" + encoded,\n",
        "                  download=\"plotly_graph.html\"\n",
        "              ),\n",
        "\n",
        "              ], style={'columnCount': '2'}),\n",
        "\n",
        "    dcc.Graph(id=\"graph\"),\n",
        "    \n",
        "        \n",
        "            html.Div([\n",
        "                html.Span('(материал произведен совместно с ЦИК РФ и распространён официально признанным агентом иной страны, иной России, Прекрасной России Будущего, лицом, являющимся членом органа (Совета) НКО (Лига Избирателей) выполняющей, по мнению Минюста РФ, функции иностранного агента на сумму 225 рублей 40 копеек, пожертвованных в 2019 году Светланой Доровской, якобы являющейся гражданкой Молдовы, а возможно и России, т.к. она зарегистрирована и проживает в г. Москве).')\n",
        "            ]),\n",
        "\n",
        "])\n",
        "\n",
        "\n",
        "@cache.memoize(timeout=TIMEOUT)\n",
        "def query_data():\n",
        "    data = pd.read_csv('falsifications_detected_president_rf_2018.csv')\n",
        "    data_flattened = flattened(data)\n",
        "    data_flattened = replace_and_add(data_flattened)\n",
        "    sample_data = proverka_fact(data_flattened)\n",
        "    return sample_data.to_json(date_format='iso', orient='split')\n",
        "\n",
        "\n",
        "@app.callback(\n",
        "    Output(\"graph\", \"figure\"),\n",
        "    Output(\"region\", \"options\"),\n",
        "    Output(\"download\", \"href\"),\n",
        "    Input(\"all_or_colored\", \"value\"),\n",
        "    Input(\"region\", \"value\"),\n",
        "    Input(\"lag\", \"value\"),\n",
        "    Input(\"uik_number\", \"value\"),\n",
        "    Input(\"types\", \"value\"),\n",
        "    Input(\"region_type\", \"value\"),\n",
        ")\n",
        "def modify(all_or_colored, region, lag, uik_number, types, region_type):\n",
        "    big_sample_data = pd.read_json(query_data(), orient='split')\n",
        "\n",
        "    if region_type == 1:\n",
        "        region_list = big_sample_data['region'].unique()\n",
        "    else:\n",
        "        region_list = big_sample_data[big_sample_data['variable'] != 'Официальная Явка']['region'].unique()\n",
        "\n",
        "    sample_data = big_sample_data[big_sample_data['region'].isin(region)].copy()\n",
        "    sample_data = sample_data_color(sample_data, lag)\n",
        "    sample_data = sample_data[sample_data['variable'].isin(types)]\n",
        "\n",
        "    if all_or_colored == 0:\n",
        "        sample_data = sample_data[sample_data['color'].isin([no_video, video_not_looked]) == False]\n",
        "    elif all_or_colored == 2:\n",
        "        try:\n",
        "            sample_data = sample_data[sample_data['uik_num'] == int(uik_number)]\n",
        "        except ValueError:\n",
        "            sample_data = sample_data\n",
        "\n",
        "    data_no_video = sample_data[sample_data['color'].isin([no_video])]\n",
        "    data_video_not_looked = sample_data[sample_data['color'].isin([video_not_looked])]\n",
        "    data_color = sample_data[sample_data['color'].isin([no_video, video_not_looked]) == False]\n",
        "\n",
        "    # Add traces\n",
        "\n",
        "    trace_list = []\n",
        "\n",
        "    if len(data_no_video) > 0:\n",
        "        trace_list += [go.Scatter(y=data_no_video['value'], x=data_no_video['region_uik'],\n",
        "                                  mode='markers',\n",
        "                                  name='без видео в архиве',\n",
        "                                  marker=dict(color=data_no_video['color']),\n",
        "                                  marker_line=dict(color=data_no_video['color'], width=1),\n",
        "                                  )]\n",
        "\n",
        "    if len(data_video_not_looked) > 0:\n",
        "        trace_list += [go.Scatter(y=data_video_not_looked['value'], x=data_video_not_looked['region_uik'],\n",
        "                                  mode='markers',\n",
        "                                  name='ждет проверки',\n",
        "                                  marker=dict(color=data_video_not_looked['color']),\n",
        "                                  marker_line=dict(color=data_video_not_looked['color'], width=1),\n",
        "                                  )]\n",
        "\n",
        "    if len(data_color) > 0:\n",
        "        for k in data_color['region_uik']:\n",
        "            dt = sample_data[sample_data['region_uik'] == k]\n",
        "            trace_list += [go.Scatter(y=dt['value'], x=dt['region_uik'],\n",
        "                                      mode='lines+markers',\n",
        "                                      name='видео проверено',\n",
        "                                      line=dict(color=dt['color'].values[0], width=2),\n",
        "                                      marker=dict(color=dt['color'])\n",
        "                                      )]\n",
        "    layout = go.Layout(\n",
        "        paper_bgcolor=video_not_looked\n",
        "    )\n",
        "\n",
        "    fig = go.Figure(data=trace_list, layout=layout)\n",
        "    fig.update_xaxes(categoryarray=sample_data['region_uik'].unique(), showticklabels=False)\n",
        "    fig.update_yaxes(range=[0, 1.1], tickformat=\".0%\")\n",
        "    fig.update_traces(showlegend=False, marker_line_width=0.5, marker_size=10)\n",
        "\n",
        "    # сохраним нашу фигуру\n",
        "    buffer = io.StringIO()\n",
        "    fig.write_html(buffer)\n",
        "    html_bytes = buffer.getvalue().encode()\n",
        "    encoded = b64encode(html_bytes).decode()\n",
        "\n",
        "    return fig, region_list, \"data:text/html;base64,\" + encoded\n",
        "\n",
        "\n",
        "app.run_server(mode=\"external\")\n"
      ]
    },
    {
      "cell_type": "code",
      "execution_count": null,
      "metadata": {
        "id": "QnjABW60LD7P"
      },
      "outputs": [],
      "source": [
        ""
      ]
    }
  ],
  "metadata": {
    "kernelspec": {
      "display_name": "Python 3",
      "language": "python",
      "name": "python3"
    },
    "language_info": {
      "codemirror_mode": {
        "name": "ipython",
        "version": 3
      },
      "file_extension": ".py",
      "mimetype": "text/x-python",
      "name": "python",
      "nbconvert_exporter": "python",
      "pygments_lexer": "ipython3",
      "version": "3.7.6"
    },
    "toc": {
      "base_numbering": 1,
      "nav_menu": {},
      "number_sections": true,
      "sideBar": true,
      "skip_h1_title": false,
      "title_cell": "Table of Contents",
      "title_sidebar": "Contents",
      "toc_cell": false,
      "toc_position": {},
      "toc_section_display": true,
      "toc_window_display": false
    },
    "colab": {
      "name": "dataviz_golos_president_2018.ipynb",
      "provenance": []
    }
  },
  "nbformat": 4,
  "nbformat_minor": 0
}