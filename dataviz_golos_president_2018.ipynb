{
  "cells": [
    {
      "cell_type": "markdown",
      "metadata": {
        "id": "aN1PU0wBLD64"
      },
      "source": [
        "# Фальсификации выявляемые явкой (Президент РФ 2018 с погрешностью)\n",
        "\n",
        "### Источник данных \\ Source\n",
        "Сделано на Google Sheets:  https://docs.google.com/spreadsheets/d/1B6mdaLXdB9AK5zFjSPzHq-4Rb2Gx8ZfKrm3jFeqQ1qk/copy\n",
        "(нужно создать свою копию)\n",
        "Тут показано как это работает: https://youtu.be/fRScTlfZ16c"
      ]
    },
    {
      "cell_type": "code",
      "execution_count": 9,
      "metadata": {
        "id": "H_tlo2haLD6_"
      },
      "outputs": [],
      "source": [
        "#ЗАДАТЬ ЦВЕТ ТОЧЕК\n",
        "#Официальная Явка без видео\n",
        "no_video = 'gray'\n",
        "#Официальная Явка c непросмотренным видео \n",
        "video_not_looked = 'whitesmoke'\n",
        "#Совпало с официальной явкой\n",
        "video_good = 'darkgreen'\n",
        "#Совпало НИЖЕ с официальной явки\n",
        "video_bad = 'red'\n",
        "#Совпало ВЫШЕ с официальной явки\n",
        "video_strange = 'goldenrod'\n",
        "\n",
        "#Расчет волонтеров 2018\n",
        "info_2018 = 'steelblue'\n",
        "#Расчет волонтеров 2020\n",
        "info_2020 = 'blue'"
      ]
    },
    {
      "cell_type": "code",
      "source": [
        "!pip install dash dash-bootstrap-components jupyter_dash flask_caching "
      ],
      "metadata": {
        "id": "htyhGZ6CMO2S",
        "outputId": "a9635773-72cf-49f9-d659-24430e46603e",
        "colab": {
          "base_uri": "https://localhost:8080/"
        }
      },
      "execution_count": 10,
      "outputs": [
        {
          "output_type": "stream",
          "name": "stdout",
          "text": [
            "Looking in indexes: https://pypi.org/simple, https://us-python.pkg.dev/colab-wheels/public/simple/\n",
            "Requirement already satisfied: dash in /usr/local/lib/python3.7/dist-packages (2.5.1)\n",
            "Requirement already satisfied: dash-bootstrap-components in /usr/local/lib/python3.7/dist-packages (1.2.0)\n",
            "Requirement already satisfied: jupyter_dash in /usr/local/lib/python3.7/dist-packages (0.4.2)\n",
            "Requirement already satisfied: flask_caching in /usr/local/lib/python3.7/dist-packages (2.0.0)\n",
            "Requirement already satisfied: dash-table==5.0.0 in /usr/local/lib/python3.7/dist-packages (from dash) (5.0.0)\n",
            "Requirement already satisfied: Flask>=1.0.4 in /usr/local/lib/python3.7/dist-packages (from dash) (1.1.4)\n",
            "Requirement already satisfied: dash-core-components==2.0.0 in /usr/local/lib/python3.7/dist-packages (from dash) (2.0.0)\n",
            "Requirement already satisfied: flask-compress in /usr/local/lib/python3.7/dist-packages (from dash) (1.12)\n",
            "Requirement already satisfied: plotly>=5.0.0 in /usr/local/lib/python3.7/dist-packages (from dash) (5.5.0)\n",
            "Requirement already satisfied: dash-html-components==2.0.0 in /usr/local/lib/python3.7/dist-packages (from dash) (2.0.0)\n",
            "Requirement already satisfied: Jinja2<3.0,>=2.10.1 in /usr/local/lib/python3.7/dist-packages (from Flask>=1.0.4->dash) (2.11.3)\n",
            "Requirement already satisfied: itsdangerous<2.0,>=0.24 in /usr/local/lib/python3.7/dist-packages (from Flask>=1.0.4->dash) (1.1.0)\n",
            "Requirement already satisfied: click<8.0,>=5.1 in /usr/local/lib/python3.7/dist-packages (from Flask>=1.0.4->dash) (7.1.2)\n",
            "Requirement already satisfied: Werkzeug<2.0,>=0.15 in /usr/local/lib/python3.7/dist-packages (from Flask>=1.0.4->dash) (1.0.1)\n",
            "Requirement already satisfied: MarkupSafe>=0.23 in /usr/local/lib/python3.7/dist-packages (from Jinja2<3.0,>=2.10.1->Flask>=1.0.4->dash) (2.0.1)\n",
            "Requirement already satisfied: six in /usr/local/lib/python3.7/dist-packages (from plotly>=5.0.0->dash) (1.15.0)\n",
            "Requirement already satisfied: tenacity>=6.2.0 in /usr/local/lib/python3.7/dist-packages (from plotly>=5.0.0->dash) (8.0.1)\n",
            "Requirement already satisfied: requests in /usr/local/lib/python3.7/dist-packages (from jupyter_dash) (2.23.0)\n",
            "Requirement already satisfied: retrying in /usr/local/lib/python3.7/dist-packages (from jupyter_dash) (1.3.3)\n",
            "Requirement already satisfied: ipykernel in /usr/local/lib/python3.7/dist-packages (from jupyter_dash) (4.10.1)\n",
            "Requirement already satisfied: ansi2html in /usr/local/lib/python3.7/dist-packages (from jupyter_dash) (1.7.0)\n",
            "Requirement already satisfied: nest-asyncio in /usr/local/lib/python3.7/dist-packages (from jupyter_dash) (1.5.5)\n",
            "Requirement already satisfied: ipython in /usr/local/lib/python3.7/dist-packages (from jupyter_dash) (5.5.0)\n",
            "Requirement already satisfied: cachelib>=0.9.0 in /usr/local/lib/python3.7/dist-packages (from flask_caching) (0.9.0)\n",
            "Requirement already satisfied: importlib-metadata in /usr/local/lib/python3.7/dist-packages (from ansi2html->jupyter_dash) (4.11.4)\n",
            "Requirement already satisfied: brotli in /usr/local/lib/python3.7/dist-packages (from flask-compress->dash) (1.0.9)\n",
            "Requirement already satisfied: zipp>=0.5 in /usr/local/lib/python3.7/dist-packages (from importlib-metadata->ansi2html->jupyter_dash) (3.8.0)\n",
            "Requirement already satisfied: typing-extensions>=3.6.4 in /usr/local/lib/python3.7/dist-packages (from importlib-metadata->ansi2html->jupyter_dash) (4.1.1)\n",
            "Requirement already satisfied: tornado>=4.0 in /usr/local/lib/python3.7/dist-packages (from ipykernel->jupyter_dash) (5.1.1)\n",
            "Requirement already satisfied: traitlets>=4.1.0 in /usr/local/lib/python3.7/dist-packages (from ipykernel->jupyter_dash) (5.1.1)\n",
            "Requirement already satisfied: jupyter-client in /usr/local/lib/python3.7/dist-packages (from ipykernel->jupyter_dash) (5.3.5)\n",
            "Requirement already satisfied: setuptools>=18.5 in /usr/local/lib/python3.7/dist-packages (from ipython->jupyter_dash) (57.4.0)\n",
            "Requirement already satisfied: simplegeneric>0.8 in /usr/local/lib/python3.7/dist-packages (from ipython->jupyter_dash) (0.8.1)\n",
            "Requirement already satisfied: pexpect in /usr/local/lib/python3.7/dist-packages (from ipython->jupyter_dash) (4.8.0)\n",
            "Requirement already satisfied: decorator in /usr/local/lib/python3.7/dist-packages (from ipython->jupyter_dash) (4.4.2)\n",
            "Requirement already satisfied: pickleshare in /usr/local/lib/python3.7/dist-packages (from ipython->jupyter_dash) (0.7.5)\n",
            "Requirement already satisfied: prompt-toolkit<2.0.0,>=1.0.4 in /usr/local/lib/python3.7/dist-packages (from ipython->jupyter_dash) (1.0.18)\n",
            "Requirement already satisfied: pygments in /usr/local/lib/python3.7/dist-packages (from ipython->jupyter_dash) (2.6.1)\n",
            "Requirement already satisfied: wcwidth in /usr/local/lib/python3.7/dist-packages (from prompt-toolkit<2.0.0,>=1.0.4->ipython->jupyter_dash) (0.2.5)\n",
            "Requirement already satisfied: jupyter-core>=4.6.0 in /usr/local/lib/python3.7/dist-packages (from jupyter-client->ipykernel->jupyter_dash) (4.10.0)\n",
            "Requirement already satisfied: python-dateutil>=2.1 in /usr/local/lib/python3.7/dist-packages (from jupyter-client->ipykernel->jupyter_dash) (2.8.2)\n",
            "Requirement already satisfied: pyzmq>=13 in /usr/local/lib/python3.7/dist-packages (from jupyter-client->ipykernel->jupyter_dash) (23.1.0)\n",
            "Requirement already satisfied: ptyprocess>=0.5 in /usr/local/lib/python3.7/dist-packages (from pexpect->ipython->jupyter_dash) (0.7.0)\n",
            "Requirement already satisfied: certifi>=2017.4.17 in /usr/local/lib/python3.7/dist-packages (from requests->jupyter_dash) (2022.6.15)\n",
            "Requirement already satisfied: chardet<4,>=3.0.2 in /usr/local/lib/python3.7/dist-packages (from requests->jupyter_dash) (3.0.4)\n",
            "Requirement already satisfied: idna<3,>=2.5 in /usr/local/lib/python3.7/dist-packages (from requests->jupyter_dash) (2.10)\n",
            "Requirement already satisfied: urllib3!=1.25.0,!=1.25.1,<1.26,>=1.21.1 in /usr/local/lib/python3.7/dist-packages (from requests->jupyter_dash) (1.24.3)\n"
          ]
        }
      ]
    },
    {
      "cell_type": "markdown",
      "metadata": {
        "id": "buKBns11LD7D"
      },
      "source": [
        "#####  Библиотеки и функции"
      ]
    },
    {
      "cell_type": "code",
      "execution_count": 11,
      "metadata": {
        "id": "0LDECCGXLD7D"
      },
      "outputs": [],
      "source": [
        "import numpy as np\n",
        "import pandas as pd\n",
        "import warnings\n",
        "\n",
        "from plotly.colors import n_colors\n",
        "import plotly as plt\n",
        "import requests\n",
        "\n",
        "import json\n",
        "\n",
        "import plotly.graph_objects as go \n",
        "import dash\n",
        "import dash_core_components as dcc\n",
        "import dash_html_components as html\n",
        "\n",
        "import dash_bootstrap_components as dbc\n",
        "\n",
        "from dash import Dash, dcc, html, Input, Output, ctx\n",
        "from jupyter_dash import JupyterDash\n",
        "from flask_caching import Cache\n",
        "from base64 import b64encode\n",
        "import io\n",
        "TIMEOUT = 60\n",
        "import plotly.io as pio\n",
        "import plotly.express as px\n",
        "pio.templates.default = \"plotly_white\"\n",
        "\n",
        "#Импортируем все необходимые библиотеки\n",
        "user_agent = 'Mozilla/5.0 (Macintosh; Intel Mac OS X 10_9_3) AppleWebKit/537.36 (KHTML, like Gecko) Chrome/35.0.1916.47 Safari/537.36'\n",
        "headers = {'User-Agent': user_agent}\n",
        "\n",
        "#from tqdm import tqdm\n",
        "pd.set_option('display.max_columns', None)\n"
      ]
    },
    {
      "cell_type": "markdown",
      "metadata": {
        "id": "V8nfIcIELD7E"
      },
      "source": [
        "##### Загрузка данных"
      ]
    },
    {
      "cell_type": "code",
      "execution_count": 12,
      "metadata": {
        "id": "r6vJd6fgLD7F"
      },
      "outputs": [],
      "source": [
        "def data_read():\n",
        "    data = pd.ExcelFile('„Фальсификации выявляемые явкой (Президент РФ 2018 с погрешностью)“ kopija_.xlsx').parse('ЦИК')\n",
        "    data = data.drop(columns=['Unnamed: 0', 'Unnamed: 14', 'Unnamed: 19'])\n",
        "    data.columns = data[1:2].values[0]\n",
        "    data = data[2:] \n",
        "    return data"
      ]
    },
    {
      "cell_type": "code",
      "execution_count": 13,
      "metadata": {
        "id": "7PoNoidkLD7G"
      },
      "outputs": [],
      "source": [
        "#data = data_read()"
      ]
    },
    {
      "cell_type": "code",
      "execution_count": 14,
      "metadata": {
        "id": "1lnH5WumLD7H"
      },
      "outputs": [],
      "source": [
        "#data.to_csv('falsifications_detected_president_rf_2018.csv', index=False)"
      ]
    },
    {
      "cell_type": "code",
      "source": [
        "#url = 'https://github.com/Justlesia/dataviz_golos_president_2018/blob/d5e79d8085b47b33eb6352aa1034cd7df838e77d/falsifications_detected_president_rf_2018.csv'\n",
        "\n",
        "##s = requests.get(url).content\n",
        "#data = pd.read_csv(io.StringIO(s.decode('utf-8')))"
      ],
      "metadata": {
        "id": "RBCdjHafONU-"
      },
      "execution_count": 15,
      "outputs": []
    },
    {
      "cell_type": "code",
      "execution_count": 16,
      "metadata": {
        "id": "qT2g8EhsLD7H"
      },
      "outputs": [],
      "source": [
        "#data = pd.read_csv('https://github.com/Justlesia/dataviz_golos_president_2018/blob/d5e79d8085b47b33eb6352aa1034cd7df838e77d/falsifications_detected_president_rf_2018.csv')"
      ]
    },
    {
      "cell_type": "code",
      "source": [
        "data = pd.read_csv('falsifications_detected_president_rf_2018.csv')"
      ],
      "metadata": {
        "id": "0gm25EaCOkna"
      },
      "execution_count": 17,
      "outputs": []
    },
    {
      "cell_type": "code",
      "execution_count": 18,
      "metadata": {
        "id": "4kifVPTJLD7I"
      },
      "outputs": [],
      "source": [
        "#data.head()"
      ]
    },
    {
      "cell_type": "code",
      "execution_count": 19,
      "metadata": {
        "id": "sNig5_J1LD7J"
      },
      "outputs": [],
      "source": [
        "def flattened(data):\n",
        "    data_flattened = data.melt(id_vars=['region', 'uik'], value_vars=['Официальная Явка',\n",
        "                                                                                    'Явка волонтер 2020',\n",
        "                                                                                    'Явка волонтер 2018'])\n",
        "    data_flattened = data_flattened[data_flattened['value'] != -1.0]\n",
        "    \n",
        "    not_looked = data[data['Оф явка без просмотра']  != -1].pivot_table(index = ['region','uik'],\n",
        "                                                           values= 'Оф явка без просмотра', aggfunc  = 'count').reset_index()\n",
        "    data_flattened = data_flattened.merge(not_looked, how = 'left', on = ['region','uik'])\n",
        "    return data_flattened\n",
        "\n",
        "data_flattened = flattened(data)"
      ]
    },
    {
      "cell_type": "code",
      "execution_count": 20,
      "metadata": {
        "id": "frLYkglgLD7K"
      },
      "outputs": [],
      "source": [
        "def replace_and_add(data):\n",
        "    data_flattened['region_uik'] = data_flattened['region'] + ', ' + data_flattened['uik']\n",
        "    data_flattened['uik_num'] = data_flattened['uik'].str.replace('УИК №', '')\n",
        "    return data_flattened\n",
        "\n",
        "data_flattened = replace_and_add(data_flattened)\n"
      ]
    },
    {
      "cell_type": "code",
      "execution_count": 21,
      "metadata": {
        "id": "UWSVamnHLD7L"
      },
      "outputs": [],
      "source": [
        "def proverka_fact(sample_data):\n",
        "    proverka_fact =  sample_data[sample_data[\n",
        "        'variable'].isin(['Явка волонтер 2018', 'Явка волонтер 2020'])].groupby(['region','uik'])['value'].mean().reset_index()\n",
        "    proverka_fact = proverka_fact.rename(columns = {'value': 'mean_volunteer'})\n",
        "    proverka_fact['variable'] = 'Официальная Явка'\n",
        "    sample_data= sample_data.merge(proverka_fact, how= 'left', on = ['region','uik','variable'])\n",
        "    return sample_data\n",
        "\n",
        "sample_data = proverka_fact(data_flattened)\n",
        "\n"
      ]
    },
    {
      "cell_type": "code",
      "execution_count": 22,
      "metadata": {
        "id": "ZZdNxjjPLD7L"
      },
      "outputs": [],
      "source": [
        "def sample_data_color(sample_data, lag):\n",
        "\n",
        "    color_dict = {'Официальная Явка' : no_video, 'Явка волонтер 2018' : info_2018, 'Явка волонтер 2020' : info_2020}\n",
        "\n",
        "    sample_data['color'] = sample_data['variable']\n",
        "    sample_data.replace({\"color\": color_dict}, inplace=True)\n",
        "    sample_data.head()\n",
        "    \n",
        "    sample_data['color'] = sample_data['color'].where(sample_data['Оф явка без просмотра'].isna(), video_not_looked)\n",
        "    sample_data['color'] = sample_data['color'].where(sample_data['mean_volunteer'].isna(), video_good)\n",
        "    sample_data['color'] = sample_data['color'].where(np.logical_not(sample_data['value'] > (sample_data['mean_volunteer'] + lag)),video_bad)\n",
        "    sample_data['color'] = sample_data['color'].where(np.logical_not(sample_data['value'] < (sample_data['mean_volunteer'] - lag)),video_strange)\n",
        "    return sample_data\n",
        "\n",
        "sample_data = sample_data_color(sample_data, 0.05)\n",
        "\n"
      ]
    },
    {
      "cell_type": "code",
      "execution_count": 23,
      "metadata": {
        "colab": {
          "base_uri": "https://localhost:8080/"
        },
        "id": "skIKpVP3LD7M",
        "outputId": "5bd3d509-ae71-4004-e1a5-92fe7e6de3b2"
      },
      "outputs": [
        {
          "output_type": "stream",
          "name": "stdout",
          "text": [
            "['gray' 'red' 'whitesmoke' 'darkgreen' 'goldenrod' 'blue' 'steelblue']\n"
          ]
        }
      ],
      "source": [
        "print(sample_data['color'].unique())"
      ]
    },
    {
      "cell_type": "code",
      "execution_count": 24,
      "metadata": {
        "id": "k5bIoU1dLD7M"
      },
      "outputs": [],
      "source": [
        "# для кнопки\n",
        "buffer = io.StringIO()\n",
        "fig = go.Figure()\n",
        "html_bytes = buffer.getvalue().encode()\n",
        "encoded = b64encode(html_bytes).decode()"
      ]
    },
    {
      "cell_type": "code",
      "source": [
        "button = html.Div(\n",
        "    [\n",
        "                  dbc.Button(\"Скачать как HTML\", \n",
        "                  id=\"download\",\n",
        "                  href=\"data:text/html;base64,\" + encoded,\n",
        "                  download=\"plotly_graph.html\",\n",
        "                  className=\"me-1\",\n",
        "                  #external_link=True\n",
        "                  ),\n",
        "    ]\n",
        ")"
      ],
      "metadata": {
        "id": "DDZ81opZX4cN"
      },
      "execution_count": 25,
      "outputs": []
    },
    {
      "cell_type": "code",
      "source": [
        "disclaimer = html.Div(\n",
        "    \n",
        "        dbc.FormText([\n",
        "                html.Span('(материал произведен совместно с ЦИК РФ и распространён официально признанным агентом иной страны, иной России, Прекрасной России Будущего, лицом, являющимся членом органа (Совета) НКО (Лига Избирателей) выполняющей, по мнению Минюста РФ, функции иностранного агента на сумму 225 рублей 40 копеек, пожертвованных в 2019 году Светланой Доровской, якобы являющейся гражданкой Молдовы, а возможно и России, т.к. она зарегистрирована и проживает в г. Москве).')\n",
        "            ]),\n",
        ")"
      ],
      "metadata": {
        "id": "zpzLTAbeYQOk"
      },
      "execution_count": 26,
      "outputs": []
    },
    {
      "cell_type": "code",
      "source": [
        "app = JupyterDash(__name__, external_stylesheets=[dbc.themes.LITERA])\n",
        "\n",
        "cache = Cache(app.server, config={\n",
        "    'CACHE_TYPE': 'simple',\n",
        "    # 'CACHE_DIR': 'cache-directory'\n",
        "})"
      ],
      "metadata": {
        "id": "l_-iDFEUA9u0"
      },
      "execution_count": 27,
      "outputs": []
    },
    {
      "cell_type": "code",
      "execution_count": 28,
      "metadata": {
        "id": "QnjABW60LD7P"
      },
      "outputs": [],
      "source": [
        "\n",
        "upper_left_controls = dbc.Form([\n",
        "      html.Div([\n",
        "          dbc.Label(\"Участково избирательные участки:\"),\n",
        "          dbc.RadioItems(\n",
        "                  id='all_or_colored', value=1, inline=True,\n",
        "                  options=[{'label': 'Все', 'value': 1},\n",
        "                          {'label': 'Только проверенные (видеонаблюдение)', 'value': 0},\n",
        "                          {'label': 'Один УИК', 'value': 2},\n",
        "                          ]\n",
        "              ),\n",
        "          dbc.Input(\n",
        "              id='uik_number',\n",
        "              placeholder='Запишите числовой номер УИК',\n",
        "              type=\"number\", min=1, max=100000, step=1,\n",
        "              className=\"md-3\", \n",
        "          ),\n",
        "      ],\n",
        "      className=\"md-3\"),\n",
        "    ])\n",
        "\n",
        "\n",
        "\n",
        "upper_right_controls = dbc.Form([\n",
        "    html.Div([\n",
        "        dbc.Label('Данные по явке:'),\n",
        "        dbc.Checklist(\n",
        "            options = [\n",
        "                {'label': 'Официальная Явка', 'value': 'Официальная Явка', 'label_style': {'color': 'darkgrey', 'font-weight': 'bold'}},\n",
        "                {'label': 'Явка волонтер 2018', 'value': 'Явка волонтер 2018'},\n",
        "                {'label': 'Явка волонтер 2020' , 'value': 'Явка волонтер 2020'}, \n",
        "            ],\n",
        "            value=['Официальная Явка', 'Явка волонтер 2018', 'Явка волонтер 2020'],\n",
        "            id = 'types',\n",
        "        ),\n",
        "    ], className=\"md-3\"),\n",
        "])\n",
        "\n",
        "left_controls = dbc.Form([\n",
        "    html.Div([\n",
        "        dbc.Label(\"Критическая погрешность:\"),\n",
        "        dcc.Slider(0.01, 0.15, id='lag', value=0.05, marks={\n",
        "            0.01: '≥1%',\n",
        "            0.03: '≥3%',\n",
        "            0.05: '≥5%',\n",
        "            0.10: '≥10%',\n",
        "            0.15: '≥15%',\n",
        "        }),\n",
        "        dbc.FormText([\n",
        "                'Если выявленный процент явки отличается от официального ',\n",
        "                html.Span('на критическую погрешность и больше, то он выделен цветом, ', style={'color': video_bad}),\n",
        "                html.Span('если меньше - другим', style={'color': video_good}),\n",
        "                '. Третьим отмечены точки, где подсчеты дали ',\n",
        "                html.Span('большую явку, чем официальная', style={'color': video_strange})\n",
        "            ]),\n",
        "    ], className=\"md-3\"),\n",
        "\n",
        "\n",
        "\n",
        "    html.Div([\n",
        "        dbc.Label('Регион:'),\n",
        "\n",
        "        dbc.RadioItems(\n",
        "                  id='region_type', value=1,\n",
        "                  options=[{'label': 'Все', 'value': 1},\n",
        "                           {'label': 'С видео', 'value': 0}],\n",
        "                  inline=True\n",
        "              ),\n",
        "\n",
        "        dcc.Dropdown(\n",
        "            options = sample_data['region'].unique(),\n",
        "            value = ['город Москва'], id = 'region', multi = True\n",
        "        ),\n",
        "\n",
        "\n",
        "    ], className=\"md-3\"),\n",
        "])\n",
        "\n",
        "\n"
      ]
    },
    {
      "cell_type": "code",
      "source": [
        "app.layout = dbc.Container([\n",
        "    dbc.NavbarSimple(\n",
        "        brand=\"Фальсификации выявляемые явкой (Президент РФ 2018 с погрешностью)\",\n",
        "        className='mb-3'\n",
        "    ),\n",
        "    dbc.Row(\n",
        "        [\n",
        "        dbc.Col(upper_left_controls, md=8),\n",
        "        dbc.Col(upper_right_controls, md=4),         \n",
        "        ],\n",
        "        align=\"upper\",\n",
        "    ),\n",
        "\n",
        "    dbc.Row(\n",
        "        [\n",
        "            dbc.Col([\n",
        "                    html.Div(\n",
        "                        [left_controls],\n",
        "                        className=\"p-3 bg-light border rounded-3\"\n",
        "                    ),\n",
        "                    button,\n",
        "                ],\n",
        "                md=4,\n",
        "            ),\n",
        "            dbc.Col(dcc.Graph(id=\"graph\"), md=8),\n",
        "        ],\n",
        "        align=\"center\",\n",
        "    ),\n",
        "    \n",
        "    dbc.Row([\n",
        "        dbc.Col(\n",
        "        [\n",
        "          disclaimer\n",
        "        ] , \n",
        "        align=\"left\")\n",
        "    ]),\n",
        "])"
      ],
      "metadata": {
        "id": "cierenC2BMK4"
      },
      "execution_count": 29,
      "outputs": []
    },
    {
      "cell_type": "code",
      "source": [
        "@cache.memoize(timeout=TIMEOUT)\n",
        "def query_data():\n",
        "    data = pd.read_csv('falsifications_detected_president_rf_2018.csv')\n",
        "    data_flattened = flattened(data)\n",
        "    data_flattened = replace_and_add(data_flattened)\n",
        "    sample_data = proverka_fact(data_flattened)\n",
        "    return sample_data.to_json(date_format='iso', orient='split')\n",
        "\n",
        "\n",
        "\n",
        "def draw_graph(sample_data):\n",
        "\n",
        "    data_no_video = sample_data[sample_data['color'].isin([no_video])]\n",
        "    data_video_not_looked = sample_data[sample_data['color'].isin([video_not_looked])]\n",
        "    data_color = sample_data[sample_data['color'].isin([no_video, video_not_looked]) == False]\n",
        "\n",
        "    trace_list = []\n",
        "\n",
        "    if len(data_no_video) > 0:\n",
        "        trace_list += [go.Scatter(y=data_no_video['value'], x=data_no_video['region_uik'],\n",
        "                                  mode='markers',\n",
        "                                  name='без видео в архиве',\n",
        "                                  marker=dict(color=data_no_video['color']),\n",
        "                                  marker_line=dict(color=data_no_video['color'], width=1),\n",
        "                                  )]\n",
        "\n",
        "    if len(data_video_not_looked) > 0:\n",
        "        trace_list += [go.Scatter(y=data_video_not_looked['value'], x=data_video_not_looked['region_uik'],\n",
        "                                  mode='markers',\n",
        "                                  name='ждет проверки',\n",
        "                                  marker=dict(color=data_video_not_looked['color']),\n",
        "                                  marker_line=dict(color=data_video_not_looked['color'], width=1),\n",
        "                                  )]\n",
        "\n",
        "    if len(data_color) > 0:\n",
        "        for k in data_color['region_uik']:\n",
        "            dt = sample_data[sample_data['region_uik'] == k]\n",
        "            trace_list += [go.Scatter(y=dt['value'], x=dt['region_uik'],\n",
        "                                      mode='lines+markers',\n",
        "                                      name='видео проверено',\n",
        "                                      line=dict(color=dt['color'].values[0], width=2),\n",
        "                                      marker=dict(color=dt['color'])\n",
        "                                      )]\n",
        "    layout = go.Layout(\n",
        "        paper_bgcolor=video_not_looked\n",
        "    )\n",
        "\n",
        "    fig = go.Figure(data=trace_list, layout=layout)\n",
        "    fig.update_xaxes(categoryarray=sample_data['region_uik'].unique(), showticklabels=False)\n",
        "    fig.update_yaxes(range=[0, 1.1], tickformat=\".0%\")\n",
        "    fig.update_traces(showlegend=False, marker_line_width=0.5, marker_size=10)\n",
        "    return fig\n",
        "\n",
        "\n",
        "@app.callback(\n",
        "    Output(\"graph\", \"figure\"),\n",
        "    #Output(\"region\", \"options\"),\n",
        "    #Output(\"download\", \"href\"),\n",
        "    Input(\"all_or_colored\", \"value\"),\n",
        "    Input(\"region\", \"value\"),\n",
        "    Input(\"lag\", \"value\"),\n",
        "    Input(\"uik_number\", \"value\"),\n",
        "    Input(\"types\", \"value\"),\n",
        "    Input(\"region_type\", \"value\"),\n",
        ")\n",
        "def modify(all_or_colored, region, lag, uik_number, types, region_type):\n",
        "    big_sample_data = pd.read_json(query_data(), orient='split')\n",
        "\n",
        "    triggered_id = callback_context.triggered[0]['prop_id']\n",
        "        \n",
        "    if triggered_id == 'region_type.value':\n",
        "        region_list = big_sample_data['region'].unique()\n",
        "        if region_type == 0:\n",
        "          region_list = big_sample_data[big_sample_data['variable'] != 'Официальная Явка']['region'].unique()\n",
        "            \n",
        "\n",
        "    sample_data = big_sample_data[big_sample_data['region'].isin(region)].copy()\n",
        "    sample_data = sample_data_color(sample_data, lag)\n",
        "    sample_data = sample_data[sample_data['variable'].isin(types)]\n",
        "\n",
        "    if all_or_colored == 0:\n",
        "        sample_data = sample_data[sample_data['color'].isin([no_video, video_not_looked]) == False]\n",
        "    elif all_or_colored == 2:\n",
        "        try:\n",
        "            sample_data = sample_data[sample_data['uik_num'] == int(uik_number)]\n",
        "        except ValueError:\n",
        "            sample_data = sample_data\n",
        "\n",
        "    fig = draw_graph(sample_data)\n",
        "\n",
        "\n",
        "\n",
        "\n",
        "\n",
        "    # сохраним нашу фигуру\n",
        "    buffer = io.StringIO()\n",
        "    fig.write_html(buffer)\n",
        "    html_bytes = buffer.getvalue().encode()\n",
        "    encoded = b64encode(html_bytes).decode()\n",
        "\n",
        "    #if input_id == 'region_type':\n",
        "    #  return fig , region_list\n",
        "    #else:\n",
        "    #  return fig\n",
        "\n",
        "    if 'region_type.value' != triggered_id:\n",
        "         return fig\n",
        "    elif 'region_type.value' == triggered_id:\n",
        "         return None\n",
        "\n",
        "    #return fig # , region_list #, \"data:text/html;base64,\" + encoded]\n",
        "\n",
        "\n",
        "#app.run_server(mode=\"external\")\n",
        "\n",
        "if __name__ == '__main__':\n",
        "     app.run_server(mode=\"external\")"
      ],
      "metadata": {
        "colab": {
          "base_uri": "https://localhost:8080/",
          "height": 52
        },
        "id": "SuUmvNY3Au3g",
        "outputId": "aab200af-11b9-46c1-902b-1e59a99fe934"
      },
      "execution_count": 35,
      "outputs": [
        {
          "output_type": "stream",
          "name": "stdout",
          "text": [
            "Dash app running on:\n"
          ]
        },
        {
          "output_type": "display_data",
          "data": {
            "text/plain": [
              "<IPython.core.display.Javascript object>"
            ],
            "application/javascript": [
              "(async (port, path, text, element) => {\n",
              "    if (!google.colab.kernel.accessAllowed) {\n",
              "      return;\n",
              "    }\n",
              "    element.appendChild(document.createTextNode(''));\n",
              "    const url = await google.colab.kernel.proxyPort(port);\n",
              "    const anchor = document.createElement('a');\n",
              "    anchor.href = new URL(path, url).toString();\n",
              "    anchor.target = '_blank';\n",
              "    anchor.setAttribute('data-href', url + path);\n",
              "    anchor.textContent = text;\n",
              "    element.appendChild(anchor);\n",
              "  })(8050, \"/\", \"http://127.0.0.1:8050/\", window.element)"
            ]
          },
          "metadata": {}
        }
      ]
    },
    {
      "cell_type": "code",
      "source": [
        "from dash import Dash, callback, Input, Output, State, callback_context, html, dcc\n",
        "import plotly.express as px\n",
        "import plotly.graph_objects as go\n",
        "\n",
        "app = JupyterDash(__name__, external_stylesheets=[dbc.themes.LITERA])\n",
        "\n",
        "app.layout = html.Div([\n",
        "    html.Button('Draw Graph', id='draw'),\n",
        "    html.Button('Reset Graph', id='reset'),\n",
        "    dcc.Graph(id='graph')\n",
        "])\n",
        "\n",
        "@app.callback(\n",
        "    Output('graph', 'figure'),\n",
        "    Input('reset', 'n_clicks'),\n",
        "    Input('draw', 'n_clicks'),\n",
        "    #prevent_initial_call=True\n",
        ")\n",
        "def update_graph(b1, b2):\n",
        "    triggered_id = callback_context.triggered[0]['prop_id']\n",
        "    if 'reset.n_clicks' == triggered_id:\n",
        "         return reset_graph()\n",
        "    elif 'draw.n_clicks' == triggered_id:\n",
        "         return draw_graph()\n",
        "\n",
        "def draw_graph():\n",
        "    df = px.data.iris()\n",
        "    return px.scatter(df, x=df.columns[0], y=df.columns[1])\n",
        "\n",
        "def reset_graph():\n",
        "    return go.Figure()\n",
        "\n",
        "\n",
        "if __name__ == '__main__':\n",
        "     app.run_server(mode=\"external\")"
      ],
      "metadata": {
        "colab": {
          "base_uri": "https://localhost:8080/",
          "height": 52
        },
        "id": "bz_4S6U8nvxv",
        "outputId": "9cd3cb32-2e2b-4c38-f0ac-2dfdbbd8d3fe"
      },
      "execution_count": 36,
      "outputs": [
        {
          "output_type": "stream",
          "name": "stdout",
          "text": [
            "Dash app running on:\n"
          ]
        },
        {
          "output_type": "display_data",
          "data": {
            "text/plain": [
              "<IPython.core.display.Javascript object>"
            ],
            "application/javascript": [
              "(async (port, path, text, element) => {\n",
              "    if (!google.colab.kernel.accessAllowed) {\n",
              "      return;\n",
              "    }\n",
              "    element.appendChild(document.createTextNode(''));\n",
              "    const url = await google.colab.kernel.proxyPort(port);\n",
              "    const anchor = document.createElement('a');\n",
              "    anchor.href = new URL(path, url).toString();\n",
              "    anchor.target = '_blank';\n",
              "    anchor.setAttribute('data-href', url + path);\n",
              "    anchor.textContent = text;\n",
              "    element.appendChild(anchor);\n",
              "  })(8050, \"/\", \"http://127.0.0.1:8050/\", window.element)"
            ]
          },
          "metadata": {}
        }
      ]
    },
    {
      "cell_type": "markdown",
      "source": [
        ""
      ],
      "metadata": {
        "id": "-TSM2Oi2nvjP"
      }
    }
  ],
  "metadata": {
    "kernelspec": {
      "display_name": "Python 3",
      "language": "python",
      "name": "python3"
    },
    "language_info": {
      "codemirror_mode": {
        "name": "ipython",
        "version": 3
      },
      "file_extension": ".py",
      "mimetype": "text/x-python",
      "name": "python",
      "nbconvert_exporter": "python",
      "pygments_lexer": "ipython3",
      "version": "3.7.6"
    },
    "toc": {
      "base_numbering": 1,
      "nav_menu": {},
      "number_sections": true,
      "sideBar": true,
      "skip_h1_title": false,
      "title_cell": "Table of Contents",
      "title_sidebar": "Contents",
      "toc_cell": false,
      "toc_position": {},
      "toc_section_display": true,
      "toc_window_display": false
    },
    "colab": {
      "name": "dataviz_golos_president_2018.ipynb",
      "provenance": [],
      "collapsed_sections": []
    }
  },
  "nbformat": 4,
  "nbformat_minor": 0
}